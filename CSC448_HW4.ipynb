{
 "cells": [
  {
   "cell_type": "code",
   "execution_count": 10,
   "id": "dfd7fd96",
   "metadata": {},
   "outputs": [],
   "source": [
    "import pandas as pd\n",
    "import numpy as np\n",
    "from sklearn.model_selection import train_test_split\n"
   ]
  },
  {
   "cell_type": "markdown",
   "id": "801267dd",
   "metadata": {},
   "source": [
    "# Part 1: Load the dataset\n",
    "## Load the dataset (load remotely, not locally)\n",
    "## Output the first 15 rows of the data\n",
    "## Display a summary of the table information (number of datapoints, etc.)"
   ]
  },
  {
   "cell_type": "code",
   "execution_count": 11,
   "id": "384209d2",
   "metadata": {},
   "outputs": [
    {
     "data": {
      "text/html": [
       "<div>\n",
       "<style scoped>\n",
       "    .dataframe tbody tr th:only-of-type {\n",
       "        vertical-align: middle;\n",
       "    }\n",
       "\n",
       "    .dataframe tbody tr th {\n",
       "        vertical-align: top;\n",
       "    }\n",
       "\n",
       "    .dataframe thead th {\n",
       "        text-align: right;\n",
       "    }\n",
       "</style>\n",
       "<table border=\"1\" class=\"dataframe\">\n",
       "  <thead>\n",
       "    <tr style=\"text-align: right;\">\n",
       "      <th></th>\n",
       "      <th>sepal length (cm)</th>\n",
       "      <th>sepal width (cm)</th>\n",
       "      <th>petal length (cm)</th>\n",
       "      <th>petal width (cm)</th>\n",
       "    </tr>\n",
       "  </thead>\n",
       "  <tbody>\n",
       "    <tr>\n",
       "      <th>0</th>\n",
       "      <td>5.1</td>\n",
       "      <td>3.5</td>\n",
       "      <td>1.4</td>\n",
       "      <td>0.2</td>\n",
       "    </tr>\n",
       "    <tr>\n",
       "      <th>1</th>\n",
       "      <td>4.9</td>\n",
       "      <td>3.0</td>\n",
       "      <td>1.4</td>\n",
       "      <td>0.2</td>\n",
       "    </tr>\n",
       "    <tr>\n",
       "      <th>2</th>\n",
       "      <td>4.7</td>\n",
       "      <td>3.2</td>\n",
       "      <td>1.3</td>\n",
       "      <td>0.2</td>\n",
       "    </tr>\n",
       "    <tr>\n",
       "      <th>3</th>\n",
       "      <td>4.6</td>\n",
       "      <td>3.1</td>\n",
       "      <td>1.5</td>\n",
       "      <td>0.2</td>\n",
       "    </tr>\n",
       "    <tr>\n",
       "      <th>4</th>\n",
       "      <td>5.0</td>\n",
       "      <td>3.6</td>\n",
       "      <td>1.4</td>\n",
       "      <td>0.2</td>\n",
       "    </tr>\n",
       "    <tr>\n",
       "      <th>5</th>\n",
       "      <td>5.4</td>\n",
       "      <td>3.9</td>\n",
       "      <td>1.7</td>\n",
       "      <td>0.4</td>\n",
       "    </tr>\n",
       "    <tr>\n",
       "      <th>6</th>\n",
       "      <td>4.6</td>\n",
       "      <td>3.4</td>\n",
       "      <td>1.4</td>\n",
       "      <td>0.3</td>\n",
       "    </tr>\n",
       "    <tr>\n",
       "      <th>7</th>\n",
       "      <td>5.0</td>\n",
       "      <td>3.4</td>\n",
       "      <td>1.5</td>\n",
       "      <td>0.2</td>\n",
       "    </tr>\n",
       "    <tr>\n",
       "      <th>8</th>\n",
       "      <td>4.4</td>\n",
       "      <td>2.9</td>\n",
       "      <td>1.4</td>\n",
       "      <td>0.2</td>\n",
       "    </tr>\n",
       "    <tr>\n",
       "      <th>9</th>\n",
       "      <td>4.9</td>\n",
       "      <td>3.1</td>\n",
       "      <td>1.5</td>\n",
       "      <td>0.1</td>\n",
       "    </tr>\n",
       "    <tr>\n",
       "      <th>10</th>\n",
       "      <td>5.4</td>\n",
       "      <td>3.7</td>\n",
       "      <td>1.5</td>\n",
       "      <td>0.2</td>\n",
       "    </tr>\n",
       "    <tr>\n",
       "      <th>11</th>\n",
       "      <td>4.8</td>\n",
       "      <td>3.4</td>\n",
       "      <td>1.6</td>\n",
       "      <td>0.2</td>\n",
       "    </tr>\n",
       "    <tr>\n",
       "      <th>12</th>\n",
       "      <td>4.8</td>\n",
       "      <td>3.0</td>\n",
       "      <td>1.4</td>\n",
       "      <td>0.1</td>\n",
       "    </tr>\n",
       "    <tr>\n",
       "      <th>13</th>\n",
       "      <td>4.3</td>\n",
       "      <td>3.0</td>\n",
       "      <td>1.1</td>\n",
       "      <td>0.1</td>\n",
       "    </tr>\n",
       "    <tr>\n",
       "      <th>14</th>\n",
       "      <td>5.8</td>\n",
       "      <td>4.0</td>\n",
       "      <td>1.2</td>\n",
       "      <td>0.2</td>\n",
       "    </tr>\n",
       "  </tbody>\n",
       "</table>\n",
       "</div>"
      ],
      "text/plain": [
       "    sepal length (cm)  sepal width (cm)  petal length (cm)  petal width (cm)\n",
       "0                 5.1               3.5                1.4               0.2\n",
       "1                 4.9               3.0                1.4               0.2\n",
       "2                 4.7               3.2                1.3               0.2\n",
       "3                 4.6               3.1                1.5               0.2\n",
       "4                 5.0               3.6                1.4               0.2\n",
       "5                 5.4               3.9                1.7               0.4\n",
       "6                 4.6               3.4                1.4               0.3\n",
       "7                 5.0               3.4                1.5               0.2\n",
       "8                 4.4               2.9                1.4               0.2\n",
       "9                 4.9               3.1                1.5               0.1\n",
       "10                5.4               3.7                1.5               0.2\n",
       "11                4.8               3.4                1.6               0.2\n",
       "12                4.8               3.0                1.4               0.1\n",
       "13                4.3               3.0                1.1               0.1\n",
       "14                5.8               4.0                1.2               0.2"
      ]
     },
     "execution_count": 11,
     "metadata": {},
     "output_type": "execute_result"
    }
   ],
   "source": [
    "from sklearn.datasets import load_iris\n",
    "iris = load_iris()\n",
    "#convert the dataset to pandas data frame\n",
    "iris_df = pd.DataFrame(data=iris.data, columns=iris.feature_names)\n",
    "#display first 15 datasets\n",
    "iris_df.head(15)"
   ]
  },
  {
   "cell_type": "code",
   "execution_count": 12,
   "id": "68e6c3dc",
   "metadata": {},
   "outputs": [
    {
     "name": "stdout",
     "output_type": "stream",
     "text": [
      "<class 'pandas.core.frame.DataFrame'>\n",
      "RangeIndex: 150 entries, 0 to 149\n",
      "Data columns (total 4 columns):\n",
      " #   Column             Non-Null Count  Dtype  \n",
      "---  ------             --------------  -----  \n",
      " 0   sepal length (cm)  150 non-null    float64\n",
      " 1   sepal width (cm)   150 non-null    float64\n",
      " 2   petal length (cm)  150 non-null    float64\n",
      " 3   petal width (cm)   150 non-null    float64\n",
      "dtypes: float64(4)\n",
      "memory usage: 4.8 KB\n"
     ]
    }
   ],
   "source": [
    "#display dataset info\n",
    "iris_df.info()"
   ]
  },
  {
   "cell_type": "code",
   "execution_count": 13,
   "id": "c934b0cc",
   "metadata": {},
   "outputs": [],
   "source": [
    "#The features are the sepal length, width and petal length, width. The label is the classes setosa, versicolor, and virginica."
   ]
  },
  {
   "cell_type": "markdown",
   "id": "daa5a686",
   "metadata": {},
   "source": [
    "# Part 2: Split the dataset into train and test\n",
    "## Take the dataset and split it into our features (X) and label (y)\n",
    "\n",
    "## Use sklearn to split the features and labels into a training/test set. (90% train, 10% test)"
   ]
  },
  {
   "cell_type": "code",
   "execution_count": 14,
   "id": "ca5fd53b",
   "metadata": {},
   "outputs": [],
   "source": [
    "#set the features and label.\n",
    "X = iris.data\n",
    "y = iris.target"
   ]
  },
  {
   "cell_type": "code",
   "execution_count": 15,
   "id": "7347ce76",
   "metadata": {},
   "outputs": [],
   "source": [
    "#split the data into training and testing set.\n",
    "X_train, X_test,y_train, y_test = train_test_split(X,y, test_size=0.1)"
   ]
  },
  {
   "cell_type": "markdown",
   "id": "0ec0b8e7",
   "metadata": {},
   "source": [
    "# Part 3: Logistic Regression\n",
    "## i. Use sklearn to train a LogisticRegression model on the training set\n",
    "\n",
    "## ii. For a sample datapoint, predict the probabilities for each possible class\n",
    "\n",
    "## iii. Report on the score for Logistic regression model, what does the score measure?\n",
    "\n",
    "## iv. Extract the coefficents and intercepts for the boundary line(s)"
   ]
  },
  {
   "cell_type": "code",
   "execution_count": 21,
   "id": "fc4042f0",
   "metadata": {},
   "outputs": [
    {
     "data": {
      "text/plain": [
       "array([0, 2, 0, 2, 0, 2, 2, 2, 0, 0, 1, 2, 2, 0, 0, 0, 2, 2, 0, 2, 1, 2,\n",
       "       0, 2, 1, 2, 1, 1, 0, 2, 0, 1, 1, 2, 2, 0, 0, 2, 0, 0, 0, 1, 2, 0,\n",
       "       0, 1, 2, 1, 2, 0, 1, 0, 0, 1, 2, 2, 1, 0, 2, 0, 0, 2, 0, 0, 2, 1,\n",
       "       1, 0, 0, 1, 1, 0, 0, 1, 1, 2, 0, 1, 2, 0, 0, 0, 0, 1, 1, 1, 2, 1,\n",
       "       0, 2, 0, 0, 2, 1, 0, 2, 0, 2, 1, 2, 1, 1, 2, 2, 1, 2, 1, 1, 1, 0,\n",
       "       2, 1, 2, 2, 2, 1, 2, 1, 0, 0, 2, 1, 1, 2, 2, 2, 1, 2, 0, 1, 1, 2,\n",
       "       2, 1, 1])"
      ]
     },
     "execution_count": 21,
     "metadata": {},
     "output_type": "execute_result"
    }
   ],
   "source": [
    "from sklearn.linear_model import LogisticRegression\n",
    "#Train the model using the training dataset\n",
    "LR = LogisticRegression(solver='lbfgs', max_iter=1000).fit(X_train,y_train)\n",
    "LR.predict(X_train)"
   ]
  },
  {
   "cell_type": "code",
   "execution_count": 93,
   "id": "069fc216",
   "metadata": {},
   "outputs": [
    {
     "data": {
      "text/plain": [
       "array([[9.65027568e-03, 8.85622612e-01, 1.04727112e-01],\n",
       "       [1.11676136e-02, 7.55291307e-01, 2.33541079e-01],\n",
       "       [6.06532620e-03, 7.96798930e-01, 1.97135744e-01],\n",
       "       [9.65187530e-01, 3.48123954e-02, 7.44788387e-08],\n",
       "       [2.51421547e-03, 7.90643654e-01, 2.06842130e-01],\n",
       "       [1.62270887e-06, 3.60688687e-02, 9.63929509e-01],\n",
       "       [9.60244611e-01, 3.97552545e-02, 1.34066747e-07],\n",
       "       [9.06661379e-06, 2.36671250e-02, 9.76323808e-01],\n",
       "       [9.23013464e-03, 9.26042268e-01, 6.47275975e-02],\n",
       "       [9.85550326e-01, 1.44496257e-02, 4.85092758e-08],\n",
       "       [9.84895214e-01, 1.51047577e-02, 2.85828416e-08],\n",
       "       [1.23278280e-03, 4.59035978e-01, 5.39731240e-01],\n",
       "       [4.45084527e-02, 9.00439343e-01, 5.50522044e-02],\n",
       "       [9.45090117e-05, 1.50740586e-01, 8.49164905e-01],\n",
       "       [9.41117119e-01, 5.88826808e-02, 2.00184717e-07]])"
      ]
     },
     "execution_count": 93,
     "metadata": {},
     "output_type": "execute_result"
    }
   ],
   "source": [
    "LR.predict_proba(X_test)"
   ]
  },
  {
   "cell_type": "code",
   "execution_count": 23,
   "id": "631c01c0",
   "metadata": {},
   "outputs": [
    {
     "data": {
      "text/plain": [
       "0.9703703703703703"
      ]
     },
     "execution_count": 23,
     "metadata": {},
     "output_type": "execute_result"
    }
   ],
   "source": [
    "LR.score(X_train,y_train)"
   ]
  },
  {
   "cell_type": "code",
   "execution_count": 25,
   "id": "be9ff830",
   "metadata": {},
   "outputs": [],
   "source": [
    "#The score of the Logistic Regression model shows the accuracy of the predictions."
   ]
  },
  {
   "cell_type": "code",
   "execution_count": 26,
   "id": "2abfddea",
   "metadata": {},
   "outputs": [
    {
     "data": {
      "text/plain": [
       "array([[-0.43670428,  0.94180042, -2.415941  , -1.0260266 ],\n",
       "       [ 0.56696434, -0.41474456, -0.2078736 , -0.88258642],\n",
       "       [-0.13026006, -0.52705586,  2.6238146 ,  1.90861302]])"
      ]
     },
     "execution_count": 26,
     "metadata": {},
     "output_type": "execute_result"
    }
   ],
   "source": [
    "#coefficents\n",
    "LR.coef_"
   ]
  },
  {
   "cell_type": "code",
   "execution_count": 27,
   "id": "4abe4b78",
   "metadata": {},
   "outputs": [
    {
     "data": {
      "text/plain": [
       "array([  9.51333941,   2.15185864, -11.66519805])"
      ]
     },
     "execution_count": 27,
     "metadata": {},
     "output_type": "execute_result"
    }
   ],
   "source": [
    "#Intercepts\n",
    "LR.intercept_"
   ]
  },
  {
   "cell_type": "markdown",
   "id": "477ebc45",
   "metadata": {},
   "source": [
    "# Part 4: Support Vector Machine\n",
    "## i. Use sklearn to train a Support Vector Classifier on the training set\n",
    "\n",
    "## ii. For a sample datapoint, predict the probabilities for each possible class\n",
    "\n",
    "## iii. Report on the score for the SVM, what does the score measure?"
   ]
  },
  {
   "cell_type": "code",
   "execution_count": 100,
   "id": "942c59d3",
   "metadata": {},
   "outputs": [
    {
     "data": {
      "text/plain": [
       "SVC(probability=True)"
      ]
     },
     "execution_count": 100,
     "metadata": {},
     "output_type": "execute_result"
    }
   ],
   "source": [
    "from sklearn import svm\n",
    "clf = svm.SVC(probability=True)\n",
    "clf.fit(X_train,y_train)"
   ]
  },
  {
   "cell_type": "code",
   "execution_count": 101,
   "id": "60445ecc",
   "metadata": {},
   "outputs": [
    {
     "data": {
      "text/plain": [
       "array([[0.00655557, 0.95838443, 0.03506   ],\n",
       "       [0.01047383, 0.90080214, 0.08872402],\n",
       "       [0.00687882, 0.91344402, 0.07967716],\n",
       "       [0.96675591, 0.02330373, 0.00994037],\n",
       "       [0.00889603, 0.8719541 , 0.11914987],\n",
       "       [0.00934942, 0.00451554, 0.98613504],\n",
       "       [0.95842954, 0.0301292 , 0.01144126],\n",
       "       [0.00738693, 0.00392873, 0.98868434],\n",
       "       [0.00833008, 0.97700712, 0.01466281],\n",
       "       [0.97512263, 0.01575892, 0.00911846],\n",
       "       [0.97770582, 0.013905  , 0.00838917],\n",
       "       [0.00936385, 0.4696716 , 0.52096455],\n",
       "       [0.01289054, 0.97313322, 0.01397623],\n",
       "       [0.00856315, 0.05240465, 0.9390322 ],\n",
       "       [0.94935763, 0.03807127, 0.0125711 ]])"
      ]
     },
     "execution_count": 101,
     "metadata": {},
     "output_type": "execute_result"
    }
   ],
   "source": [
    "clf.predict_proba(X_test)"
   ]
  },
  {
   "cell_type": "code",
   "execution_count": 46,
   "id": "1116338c",
   "metadata": {},
   "outputs": [
    {
     "data": {
      "text/plain": [
       "array([0])"
      ]
     },
     "execution_count": 46,
     "metadata": {},
     "output_type": "execute_result"
    }
   ],
   "source": [
    "clf.predict([[5.8,5.6,1.2,0.2]])"
   ]
  },
  {
   "cell_type": "code",
   "execution_count": 47,
   "id": "2b6eb998",
   "metadata": {},
   "outputs": [
    {
     "data": {
      "text/plain": [
       "0.9703703703703703"
      ]
     },
     "execution_count": 47,
     "metadata": {},
     "output_type": "execute_result"
    }
   ],
   "source": [
    "clf.score(X_train,y_train)"
   ]
  },
  {
   "cell_type": "code",
   "execution_count": 48,
   "id": "96470193",
   "metadata": {},
   "outputs": [
    {
     "data": {
      "text/plain": [
       "1.0"
      ]
     },
     "execution_count": 48,
     "metadata": {},
     "output_type": "execute_result"
    }
   ],
   "source": [
    "clf.score(X_test,y_test)"
   ]
  },
  {
   "cell_type": "code",
   "execution_count": 49,
   "id": "b7143785",
   "metadata": {},
   "outputs": [],
   "source": [
    "#The score of the SVM means the accuracy of the prediction in the multi-label classification."
   ]
  },
  {
   "cell_type": "markdown",
   "id": "766aca34",
   "metadata": {},
   "source": [
    "# Part 5: Neural Network\n",
    "## i. Use sklearn to train a Neural Network (MLP Classifier) on the training set\n",
    "\n",
    "## ii. For a sample datapoint, predict the probabilities for each possible class\n",
    "\n",
    "## iii. Report on the score for the Neural Network, what does the score measure?\n",
    "\n",
    "## iv: Experiment with different options for the neural network, report on your best configuration (the highest score I was able to achieve was 0.8666)"
   ]
  },
  {
   "cell_type": "code",
   "execution_count": 72,
   "id": "920e3f5e",
   "metadata": {},
   "outputs": [],
   "source": [
    "from sklearn.neural_network import MLPClassifier\n",
    "MLPC = MLPClassifier(random_state=39, max_iter=1000).fit(X_train, y_train)"
   ]
  },
  {
   "cell_type": "code",
   "execution_count": 96,
   "id": "eb6e1f4a",
   "metadata": {},
   "outputs": [
    {
     "data": {
      "text/plain": [
       "array([[3.91227623e-02, 5.76122367e-01, 3.84754871e-01],\n",
       "       [4.74461486e-02, 5.71105565e-01, 3.81448286e-01],\n",
       "       [3.54489782e-02, 5.52353226e-01, 4.12197796e-01],\n",
       "       [9.19980918e-01, 7.88186330e-02, 1.20044928e-03],\n",
       "       [3.31928609e-02, 5.39967317e-01, 4.26839822e-01],\n",
       "       [2.53523263e-03, 2.44810195e-01, 7.52654572e-01],\n",
       "       [9.24638348e-01, 7.41992667e-02, 1.16238524e-03],\n",
       "       [4.05419800e-03, 2.80445167e-01, 7.15500636e-01],\n",
       "       [5.77856792e-02, 6.09132981e-01, 3.33081340e-01],\n",
       "       [9.33733375e-01, 6.53386298e-02, 9.27995453e-04],\n",
       "       [9.47727479e-01, 5.16530525e-02, 6.19468876e-04],\n",
       "       [1.67783223e-02, 4.57440171e-01, 5.25781506e-01],\n",
       "       [7.43274679e-02, 6.33911389e-01, 2.91761144e-01],\n",
       "       [6.84686619e-03, 3.49313521e-01, 6.43839613e-01],\n",
       "       [9.12910145e-01, 8.56205325e-02, 1.46932246e-03]])"
      ]
     },
     "execution_count": 96,
     "metadata": {},
     "output_type": "execute_result"
    }
   ],
   "source": [
    "MLPC.predict_proba(X_test)"
   ]
  },
  {
   "cell_type": "code",
   "execution_count": 74,
   "id": "2fa3b62f",
   "metadata": {},
   "outputs": [
    {
     "data": {
      "text/plain": [
       "array([0])"
      ]
     },
     "execution_count": 74,
     "metadata": {},
     "output_type": "execute_result"
    }
   ],
   "source": [
    "MLPC.predict([[2.8,7.5,3.6,0.5]])"
   ]
  },
  {
   "cell_type": "code",
   "execution_count": 75,
   "id": "b80e45a8",
   "metadata": {},
   "outputs": [
    {
     "data": {
      "text/plain": [
       "array([2])"
      ]
     },
     "execution_count": 75,
     "metadata": {},
     "output_type": "execute_result"
    }
   ],
   "source": [
    "MLPC.predict([[6.1,3.2,8.4,2.1]])"
   ]
  },
  {
   "cell_type": "code",
   "execution_count": 76,
   "id": "13c4b376",
   "metadata": {},
   "outputs": [
    {
     "data": {
      "text/plain": [
       "0.9777777777777777"
      ]
     },
     "execution_count": 76,
     "metadata": {},
     "output_type": "execute_result"
    }
   ],
   "source": [
    "MLPC.score(X_train,y_train)"
   ]
  },
  {
   "cell_type": "code",
   "execution_count": 77,
   "id": "a39800fe",
   "metadata": {},
   "outputs": [
    {
     "data": {
      "text/plain": [
       "1.0"
      ]
     },
     "execution_count": 77,
     "metadata": {},
     "output_type": "execute_result"
    }
   ],
   "source": [
    "MLPC.score(X_test,y_test)"
   ]
  },
  {
   "cell_type": "code",
   "execution_count": 78,
   "id": "540ce695",
   "metadata": {},
   "outputs": [],
   "source": [
    "#The score represents the accuracy of the multi-label classification, mainly the accuracy of predicting each label."
   ]
  },
  {
   "cell_type": "code",
   "execution_count": 81,
   "id": "b65ff851",
   "metadata": {},
   "outputs": [
    {
     "data": {
      "text/plain": [
       "0.9851851851851852"
      ]
     },
     "execution_count": 81,
     "metadata": {},
     "output_type": "execute_result"
    }
   ],
   "source": [
    "MLPC = MLPClassifier(random_state=100, solver='lbfgs',max_iter=1000).fit(X_train, y_train)\n",
    "MLPC.score(X_train,y_train)"
   ]
  },
  {
   "cell_type": "code",
   "execution_count": 83,
   "id": "eff6e75a",
   "metadata": {},
   "outputs": [
    {
     "data": {
      "text/plain": [
       "0.9703703703703703"
      ]
     },
     "execution_count": 83,
     "metadata": {},
     "output_type": "execute_result"
    }
   ],
   "source": [
    "MLPC = MLPClassifier(random_state=100, solver='sgd',max_iter=2000).fit(X_train, y_train)\n",
    "MLPC.score(X_train,y_train)"
   ]
  },
  {
   "cell_type": "code",
   "execution_count": 84,
   "id": "36136a34",
   "metadata": {},
   "outputs": [
    {
     "data": {
      "text/plain": [
       "1.0"
      ]
     },
     "execution_count": 84,
     "metadata": {},
     "output_type": "execute_result"
    }
   ],
   "source": [
    "MLPC = MLPClassifier(random_state=100, solver='lbfgs', activation='logistic',max_iter=1000).fit(X_train, y_train)\n",
    "MLPC.score(X_train,y_train)"
   ]
  },
  {
   "cell_type": "code",
   "execution_count": 87,
   "id": "c2893fd9",
   "metadata": {},
   "outputs": [
    {
     "data": {
      "text/plain": [
       "0.9703703703703703"
      ]
     },
     "execution_count": 87,
     "metadata": {},
     "output_type": "execute_result"
    }
   ],
   "source": [
    "MLPC = MLPClassifier(random_state=100, solver='sgd', activation='logistic',max_iter=3000).fit(X_train, y_train)\n",
    "MLPC.score(X_train,y_train)"
   ]
  },
  {
   "cell_type": "code",
   "execution_count": 88,
   "id": "af2fefe4",
   "metadata": {},
   "outputs": [],
   "source": [
    "#The highest score I got is 1 with solver='lbfgs', activation='logistic', 1000 iterations"
   ]
  },
  {
   "cell_type": "markdown",
   "id": "c2470fbc",
   "metadata": {},
   "source": [
    "# Part 6: K-Nearest Neighbors\n",
    "## i. Use sklearn to 'train' a k-Neighbors Classifier\n",
    "## Note: KNN is a nonparametric model and technically doesn't require training\n",
    "## fit will essentially load the data into the model see link below for more information\n",
    "## https://stats.stackexchange.com/questions/349842/why-do-we-need-to-fit-a-k-nearest-neighbors-classifier\n",
    "\n",
    "## ii. For a sample datapoint, predict the probabilities for each possible class\n",
    "\n",
    "## iii. Report on the score for kNN, what does the score measure?"
   ]
  },
  {
   "cell_type": "code",
   "execution_count": 89,
   "id": "1a64c0d2",
   "metadata": {},
   "outputs": [
    {
     "data": {
      "text/plain": [
       "KNeighborsClassifier(n_neighbors=3)"
      ]
     },
     "execution_count": 89,
     "metadata": {},
     "output_type": "execute_result"
    }
   ],
   "source": [
    "from sklearn.neighbors import KNeighborsClassifier\n",
    "KN = KNeighborsClassifier(n_neighbors=3)\n",
    "KN.fit(X_train,y_train)"
   ]
  },
  {
   "cell_type": "code",
   "execution_count": 102,
   "id": "5ccab03a",
   "metadata": {},
   "outputs": [
    {
     "data": {
      "text/plain": [
       "array([[0., 1., 0.],\n",
       "       [0., 1., 0.],\n",
       "       [0., 1., 0.],\n",
       "       [1., 0., 0.],\n",
       "       [0., 1., 0.],\n",
       "       [0., 0., 1.],\n",
       "       [1., 0., 0.],\n",
       "       [0., 0., 1.],\n",
       "       [0., 1., 0.],\n",
       "       [1., 0., 0.],\n",
       "       [1., 0., 0.],\n",
       "       [0., 0., 1.],\n",
       "       [0., 1., 0.],\n",
       "       [0., 0., 1.],\n",
       "       [1., 0., 0.]])"
      ]
     },
     "execution_count": 102,
     "metadata": {},
     "output_type": "execute_result"
    }
   ],
   "source": [
    "KN.predict_proba(X_test)"
   ]
  },
  {
   "cell_type": "code",
   "execution_count": 91,
   "id": "17ec1bb3",
   "metadata": {},
   "outputs": [
    {
     "data": {
      "text/plain": [
       "array([1])"
      ]
     },
     "execution_count": 91,
     "metadata": {},
     "output_type": "execute_result"
    }
   ],
   "source": [
    "KN.predict([[9.6,0.2,1.6,3.6]])"
   ]
  },
  {
   "cell_type": "code",
   "execution_count": 92,
   "id": "eae95bea",
   "metadata": {},
   "outputs": [
    {
     "data": {
      "text/plain": [
       "array([2])"
      ]
     },
     "execution_count": 92,
     "metadata": {},
     "output_type": "execute_result"
    }
   ],
   "source": [
    "KN.predict([[2.7,5.9,2.8,6.2]])"
   ]
  },
  {
   "cell_type": "code",
   "execution_count": 103,
   "id": "7ba3aaf8",
   "metadata": {},
   "outputs": [
    {
     "data": {
      "text/plain": [
       "0.9555555555555556"
      ]
     },
     "execution_count": 103,
     "metadata": {},
     "output_type": "execute_result"
    }
   ],
   "source": [
    "KN.score(X_train,y_train)"
   ]
  },
  {
   "cell_type": "code",
   "execution_count": 104,
   "id": "e72e335a",
   "metadata": {},
   "outputs": [],
   "source": [
    "#The score returns the accuracy of Kneighbors. Althought it's not the highest, it is still a high score."
   ]
  },
  {
   "cell_type": "markdown",
   "id": "5160ce83",
   "metadata": {},
   "source": [
    "# Part 7: Conclusions and takeaways\n",
    "## In your own words describe the results of the notebook. Which model(s) performed the best on the dataset? Why do you think that is? Did anything surprise you about the exercise?"
   ]
  },
  {
   "cell_type": "code",
   "execution_count": 105,
   "id": "09eb2289",
   "metadata": {},
   "outputs": [],
   "source": [
    "#In this assignemnt,we had four different model/classifiers. \n",
    "#Based on the result of the iris dataset, logisticregression and MLPC are not the best for the dataset. \n",
    "#Althought they all had a high score, but the result of the prediction probability is terrible.\n",
    "#SVM and kneighbor both scored >0/95 also did well in the prediction probability. \n",
    "#Kneighbor had very definite results for the predictions and SVM gave 80-90% probability for each prediction.\n",
    "#It won't make any difference between SVM or Kneighbor if the results are accurate, however if there is any error in the prediction, \n",
    "#Kneighbor will seems too definite unlike SVM gave a little chance for the dataset to be another label. \n",
    "#I am surpriced with the prediction probability given by Kneighbor it is very hard to predict something with 100% correct."
   ]
  },
  {
   "cell_type": "code",
   "execution_count": null,
   "id": "2f179410",
   "metadata": {},
   "outputs": [],
   "source": []
  }
 ],
 "metadata": {
  "kernelspec": {
   "display_name": "Python 3 (ipykernel)",
   "language": "python",
   "name": "python3"
  },
  "language_info": {
   "codemirror_mode": {
    "name": "ipython",
    "version": 3
   },
   "file_extension": ".py",
   "mimetype": "text/x-python",
   "name": "python",
   "nbconvert_exporter": "python",
   "pygments_lexer": "ipython3",
   "version": "3.10.1"
  }
 },
 "nbformat": 4,
 "nbformat_minor": 5
}
